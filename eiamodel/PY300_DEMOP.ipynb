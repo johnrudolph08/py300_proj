{
 "cells": [
  {
   "cell_type": "code",
   "execution_count": null,
   "metadata": {
    "collapsed": false
   },
   "outputs": [],
   "source": [
    "import eia_model as em\n",
    "import test as t\n",
    "import plotly.plotly as py\n",
    "from plotly.graph_objs import *\n",
    "from plotly import tools\n",
    "from datetime import datetime, timedelta"
   ]
  },
  {
   "cell_type": "markdown",
   "metadata": {},
   "source": [
    "# Create a weather forecast for SeaTac\n",
    "http://openweathermap.org/"
   ]
  },
  {
   "cell_type": "code",
   "execution_count": null,
   "metadata": {
    "collapsed": false
   },
   "outputs": [],
   "source": [
    "# Use GetWeatherForecast to pull SeaTac weather forecast from OpenWeatherMap\n",
    "forecast = em.GetWeatherForecast(t.owm_api, t.city_id, t.units)"
   ]
  },
  {
   "cell_type": "code",
   "execution_count": null,
   "metadata": {
    "collapsed": false
   },
   "outputs": [],
   "source": [
    "# create interpolated hourly forecast and 3 hour forecast to compare\n",
    "temps_one_hour = forecast.hourly_temps[:28]\n",
    "temps_three_hour = forecast.dataframe[:10]"
   ]
  },
  {
   "cell_type": "code",
   "execution_count": null,
   "metadata": {
    "collapsed": false,
    "scrolled": false
   },
   "outputs": [],
   "source": [
    "# plot hour against 3 hour\n",
    "fig = tools.make_subplots(rows=2)\n",
    "fig.append_trace(Scatter(\n",
    "        x=temps_one_hour.index,\n",
    "        y=temps_one_hour['temp'],\n",
    "        name='one hour',\n",
    "        mode = 'lines+markers'), 1, 1\n",
    ")\n",
    "fig.append_trace(Scatter(\n",
    "        x=temps_three_hour.index,\n",
    "        y=temps_three_hour['temp'],\n",
    "        name='three hour', mode = 'lines+markers'), 2, 1\n",
    ")\n",
    "py.iplot(fig, filename='SeaTac Weather Forecast')"
   ]
  },
  {
   "cell_type": "markdown",
   "metadata": {},
   "source": [
    "# Pull SeaTac weather station history from NCDC\n",
    "http://www7.ncdc.noaa.gov/rest/"
   ]
  },
  {
   "cell_type": "code",
   "execution_count": null,
   "metadata": {
    "collapsed": false
   },
   "outputs": [],
   "source": [
    "# create date index to pull weather history\n",
    "date2 = temps_one_hour.index.max()- timedelta(days=7)\n",
    "date1 = date2 - timedelta(hours=28)"
   ]
  },
  {
   "cell_type": "code",
   "execution_count": null,
   "metadata": {
    "collapsed": false
   },
   "outputs": [],
   "source": [
    "# function to convert datetime to string %Y%m%d%H%M format for NCDC\n",
    "def convert_date_ncdc(date):\n",
    "    return datetime.strftime(date, '%Y-%m-%d %H:%M')"
   ]
  },
  {
   "cell_type": "code",
   "execution_count": null,
   "metadata": {
    "collapsed": false,
    "scrolled": true
   },
   "outputs": [],
   "source": [
    "# Use GetWeather to pull hourly data from SeaTac weather station\n",
    "start, end = convert_date_ncdc(date1), convert_date_ncdc(date2)\n",
    "history = em.GetWeatherHistory(t.ncdc_api, t.station, t.variable, start, end)"
   ]
  },
  {
   "cell_type": "code",
   "execution_count": null,
   "metadata": {
    "collapsed": false
   },
   "outputs": [],
   "source": [
    "# plot hour against last week\n",
    "fig = tools.make_subplots(rows=2)\n",
    "fig.append_trace(Scatter(\n",
    "        x=temps_one_hour.index,\n",
    "        y=temps_one_hour['temp'],\n",
    "        name='one hour',\n",
    "        mode = 'lines+markers'), 1, 1\n",
    ")\n",
    "fig.append_trace(Scatter(\n",
    "        x=history.dataframe.index,\n",
    "        y=history.dataframe['temp'],\n",
    "        name='last week',\n",
    "        mode = 'lines+markers'), 2, 1\n",
    ")\n",
    "py.iplot(fig, filename='SeaTac Weather Forecast vs Last Week')"
   ]
  },
  {
   "cell_type": "markdown",
   "metadata": {},
   "source": [
    "# Import Seattle City Light load data\n",
    "http://www.eia.gov/opendata/date"
   ]
  },
  {
   "cell_type": "code",
   "execution_count": null,
   "metadata": {
    "collapsed": false
   },
   "outputs": [],
   "source": [
    "# Create function to convert date to EIA date format\n",
    "def convert_date_eia(date):\n",
    "    date = local2utc(date)\n",
    "    return datetime.strftime(date, '%Y%m%dT%HZ')\n",
    "\n",
    "# Need to define some functions to convert from to and from PCT to GMT\n",
    "def local2utc(date):\n",
    "    return date + timedelta(hours=7)\n",
    "\n",
    "def utc2local(date):\n",
    "    date = datetime.strptime(date, '%Y-%m-%d %H:%M:%S')\n",
    "    return datetime.strftime(date - timedelta(hours=7), '%Y-%m-%d %H:%M:%S')"
   ]
  },
  {
   "cell_type": "code",
   "execution_count": null,
   "metadata": {
    "collapsed": false
   },
   "outputs": [],
   "source": [
    "# Use GetEnergy to pull hourly data from EIA API for Seattle City Light\n",
    "start, end = convert_date_eia(date1), convert_date_eia(date2)\n",
    "scl_load = em.GetEnergy(t.eia_api, t.sid, start, end)"
   ]
  },
  {
   "cell_type": "code",
   "execution_count": null,
   "metadata": {
    "collapsed": false
   },
   "outputs": [],
   "source": [
    "#Plot load data against weather history\n",
    "trace1 = Scatter(\n",
    "    x=[utc2local(x) for x in scl_load.dataframe[t.sid].index],\n",
    "    y=scl_load.dataframe[t.sid]['values'],\n",
    "    mode = 'lines+markers',\n",
    "    name='scl_load',\n",
    ")\n",
    "\n",
    "trace2 = Scatter(\n",
    "    x=history.dataframe.index,\n",
    "    y=history.dataframe['temp'],\n",
    "    mode = 'lines+markers',\n",
    "    name = 'temp',\n",
    "    yaxis='y2'\n",
    ")\n",
    "\n",
    "data = [trace1, trace2]\n",
    "\n",
    "layout = Layout(\n",
    "    title='SCL Load vs SeaTac Temperature',\n",
    "    yaxis=dict(\n",
    "        title='Load MWhs',\n",
    "        titlefont=dict(\n",
    "            color='rgb(0,102,204)'\n",
    "        ),\n",
    "        tickfont=dict(\n",
    "            color='rgb(0,102,204)'\n",
    "        )\n",
    "    ),\n",
    "    yaxis2=dict(\n",
    "        title='Temp F',\n",
    "        titlefont=dict(\n",
    "            color='rgb(255,140,0'\n",
    "        ),\n",
    "        tickfont=dict(\n",
    "            color='rgb(255,140,0'\n",
    "        ),\n",
    "        overlaying='y',\n",
    "        side='right'\n",
    "    )\n",
    ")\n",
    "fig = Figure(data=data, layout=layout)\n",
    "py.iplot(fig, filename='multiple-axes-double')"
   ]
  },
  {
   "cell_type": "code",
   "execution_count": null,
   "metadata": {
    "collapsed": true
   },
   "outputs": [],
   "source": []
  }
 ],
 "metadata": {
  "kernelspec": {
   "display_name": "Python 3",
   "language": "python",
   "name": "python3"
  },
  "language_info": {
   "codemirror_mode": {
    "name": "ipython",
    "version": 3
   },
   "file_extension": ".py",
   "mimetype": "text/x-python",
   "name": "python",
   "nbconvert_exporter": "python",
   "pygments_lexer": "ipython3",
   "version": "3.5.1"
  }
 },
 "nbformat": 4,
 "nbformat_minor": 0
}
